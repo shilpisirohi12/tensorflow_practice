{
 "cells": [
  {
   "cell_type": "code",
   "execution_count": 1,
   "metadata": {
    "_cell_guid": "b1076dfc-b9ad-4769-8c92-a6c4dae69d19",
    "_uuid": "8f2839f25d086af736a60e9eeb907d3b93b6e0e5"
   },
   "outputs": [
    {
     "name": "stdout",
     "output_type": "stream",
     "text": [
      "/kaggle/input/sign-language-mnist/amer_sign2.png\n",
      "/kaggle/input/sign-language-mnist/amer_sign3.png\n",
      "/kaggle/input/sign-language-mnist/sign_mnist_train.csv\n",
      "/kaggle/input/sign-language-mnist/sign_mnist_test.csv\n",
      "/kaggle/input/sign-language-mnist/american_sign_language.PNG\n",
      "/kaggle/input/sign-language-mnist/sign_mnist_test/sign_mnist_test.csv\n",
      "/kaggle/input/sign-language-mnist/sign_mnist_train/sign_mnist_train.csv\n"
     ]
    }
   ],
   "source": [
    "# This Python 3 environment comes with many helpful analytics libraries installed\n",
    "# It is defined by the kaggle/python Docker image: https://github.com/kaggle/docker-python\n",
    "# For example, here's several helpful packages to load\n",
    "\n",
    "import numpy as np # linear algebra\n",
    "import pandas as pd # data processing, CSV file I/O (e.g. pd.read_csv)\n",
    "\n",
    "# Input data files are available in the read-only \"../input/\" directory\n",
    "# For example, running this (by clicking run or pressing Shift+Enter) will list all files under the input directory\n",
    "\n",
    "import os\n",
    "for dirname, _, filenames in os.walk('/kaggle/input'):\n",
    "    for filename in filenames:\n",
    "        print(os.path.join(dirname, filename))\n",
    "\n",
    "# You can write up to 5GB to the current directory (/kaggle/working/) that gets preserved as output when you create a version using \"Save & Run All\" \n",
    "# You can also write temporary files to /kaggle/temp/, but they won't be saved outside of the current session"
   ]
  },
  {
   "cell_type": "code",
   "execution_count": 2,
   "metadata": {},
   "outputs": [
    {
     "name": "stderr",
     "output_type": "stream",
     "text": [
      "Using TensorFlow backend.\n"
     ]
    }
   ],
   "source": [
    "import tensorflow as tf\n",
    "from tensorflow.keras.preprocessing.image import ImageDataGenerator\n",
    "from sklearn.model_selection import train_test_split\n",
    "from keras.optimizers import Adam\n",
    "from keras.optimizers import SGD"
   ]
  },
  {
   "cell_type": "code",
   "execution_count": 3,
   "metadata": {},
   "outputs": [],
   "source": [
    "%matplotlib inline\n",
    "import matplotlib.pyplot as plt"
   ]
  },
  {
   "cell_type": "code",
   "execution_count": 4,
   "metadata": {
    "_cell_guid": "79c7e3d0-c299-4dcb-8224-4455121ee9b0",
    "_uuid": "d629ff2d2480ee46fbb7e2d37f6b5fab8052498a"
   },
   "outputs": [],
   "source": [
    "#Loading csv into dataframe\n",
    "train = pd.read_csv('/kaggle/input/sign-language-mnist/sign_mnist_train.csv')\n",
    "test = pd.read_csv('/kaggle/input/sign-language-mnist/sign_mnist_test.csv')"
   ]
  },
  {
   "cell_type": "code",
   "execution_count": 5,
   "metadata": {},
   "outputs": [],
   "source": [
    "#Fetching labels\n",
    "train_label = train['label']\n",
    "test_label = test['label']\n",
    "\n",
    "#Fetching pixel values\n",
    "train_data =train.drop(columns=['label'])\n",
    "test_data = test.drop(columns=['label'])"
   ]
  },
  {
   "cell_type": "code",
   "execution_count": 6,
   "metadata": {},
   "outputs": [
    {
     "data": {
      "text/html": [
       "<div>\n",
       "<style scoped>\n",
       "    .dataframe tbody tr th:only-of-type {\n",
       "        vertical-align: middle;\n",
       "    }\n",
       "\n",
       "    .dataframe tbody tr th {\n",
       "        vertical-align: top;\n",
       "    }\n",
       "\n",
       "    .dataframe thead th {\n",
       "        text-align: right;\n",
       "    }\n",
       "</style>\n",
       "<table border=\"1\" class=\"dataframe\">\n",
       "  <thead>\n",
       "    <tr style=\"text-align: right;\">\n",
       "      <th></th>\n",
       "      <th>pixel1</th>\n",
       "      <th>pixel2</th>\n",
       "      <th>pixel3</th>\n",
       "      <th>pixel4</th>\n",
       "      <th>pixel5</th>\n",
       "      <th>pixel6</th>\n",
       "      <th>pixel7</th>\n",
       "      <th>pixel8</th>\n",
       "      <th>pixel9</th>\n",
       "      <th>pixel10</th>\n",
       "      <th>...</th>\n",
       "      <th>pixel775</th>\n",
       "      <th>pixel776</th>\n",
       "      <th>pixel777</th>\n",
       "      <th>pixel778</th>\n",
       "      <th>pixel779</th>\n",
       "      <th>pixel780</th>\n",
       "      <th>pixel781</th>\n",
       "      <th>pixel782</th>\n",
       "      <th>pixel783</th>\n",
       "      <th>pixel784</th>\n",
       "    </tr>\n",
       "  </thead>\n",
       "  <tbody>\n",
       "    <tr>\n",
       "      <th>0</th>\n",
       "      <td>107</td>\n",
       "      <td>118</td>\n",
       "      <td>127</td>\n",
       "      <td>134</td>\n",
       "      <td>139</td>\n",
       "      <td>143</td>\n",
       "      <td>146</td>\n",
       "      <td>150</td>\n",
       "      <td>153</td>\n",
       "      <td>156</td>\n",
       "      <td>...</td>\n",
       "      <td>207</td>\n",
       "      <td>207</td>\n",
       "      <td>207</td>\n",
       "      <td>207</td>\n",
       "      <td>206</td>\n",
       "      <td>206</td>\n",
       "      <td>206</td>\n",
       "      <td>204</td>\n",
       "      <td>203</td>\n",
       "      <td>202</td>\n",
       "    </tr>\n",
       "    <tr>\n",
       "      <th>1</th>\n",
       "      <td>155</td>\n",
       "      <td>157</td>\n",
       "      <td>156</td>\n",
       "      <td>156</td>\n",
       "      <td>156</td>\n",
       "      <td>157</td>\n",
       "      <td>156</td>\n",
       "      <td>158</td>\n",
       "      <td>158</td>\n",
       "      <td>157</td>\n",
       "      <td>...</td>\n",
       "      <td>69</td>\n",
       "      <td>149</td>\n",
       "      <td>128</td>\n",
       "      <td>87</td>\n",
       "      <td>94</td>\n",
       "      <td>163</td>\n",
       "      <td>175</td>\n",
       "      <td>103</td>\n",
       "      <td>135</td>\n",
       "      <td>149</td>\n",
       "    </tr>\n",
       "    <tr>\n",
       "      <th>2</th>\n",
       "      <td>187</td>\n",
       "      <td>188</td>\n",
       "      <td>188</td>\n",
       "      <td>187</td>\n",
       "      <td>187</td>\n",
       "      <td>186</td>\n",
       "      <td>187</td>\n",
       "      <td>188</td>\n",
       "      <td>187</td>\n",
       "      <td>186</td>\n",
       "      <td>...</td>\n",
       "      <td>202</td>\n",
       "      <td>201</td>\n",
       "      <td>200</td>\n",
       "      <td>199</td>\n",
       "      <td>198</td>\n",
       "      <td>199</td>\n",
       "      <td>198</td>\n",
       "      <td>195</td>\n",
       "      <td>194</td>\n",
       "      <td>195</td>\n",
       "    </tr>\n",
       "    <tr>\n",
       "      <th>3</th>\n",
       "      <td>211</td>\n",
       "      <td>211</td>\n",
       "      <td>212</td>\n",
       "      <td>212</td>\n",
       "      <td>211</td>\n",
       "      <td>210</td>\n",
       "      <td>211</td>\n",
       "      <td>210</td>\n",
       "      <td>210</td>\n",
       "      <td>211</td>\n",
       "      <td>...</td>\n",
       "      <td>235</td>\n",
       "      <td>234</td>\n",
       "      <td>233</td>\n",
       "      <td>231</td>\n",
       "      <td>230</td>\n",
       "      <td>226</td>\n",
       "      <td>225</td>\n",
       "      <td>222</td>\n",
       "      <td>229</td>\n",
       "      <td>163</td>\n",
       "    </tr>\n",
       "    <tr>\n",
       "      <th>4</th>\n",
       "      <td>164</td>\n",
       "      <td>167</td>\n",
       "      <td>170</td>\n",
       "      <td>172</td>\n",
       "      <td>176</td>\n",
       "      <td>179</td>\n",
       "      <td>180</td>\n",
       "      <td>184</td>\n",
       "      <td>185</td>\n",
       "      <td>186</td>\n",
       "      <td>...</td>\n",
       "      <td>92</td>\n",
       "      <td>105</td>\n",
       "      <td>105</td>\n",
       "      <td>108</td>\n",
       "      <td>133</td>\n",
       "      <td>163</td>\n",
       "      <td>157</td>\n",
       "      <td>163</td>\n",
       "      <td>164</td>\n",
       "      <td>179</td>\n",
       "    </tr>\n",
       "  </tbody>\n",
       "</table>\n",
       "<p>5 rows × 784 columns</p>\n",
       "</div>"
      ],
      "text/plain": [
       "   pixel1  pixel2  pixel3  pixel4  pixel5  pixel6  pixel7  pixel8  pixel9  \\\n",
       "0     107     118     127     134     139     143     146     150     153   \n",
       "1     155     157     156     156     156     157     156     158     158   \n",
       "2     187     188     188     187     187     186     187     188     187   \n",
       "3     211     211     212     212     211     210     211     210     210   \n",
       "4     164     167     170     172     176     179     180     184     185   \n",
       "\n",
       "   pixel10  ...  pixel775  pixel776  pixel777  pixel778  pixel779  pixel780  \\\n",
       "0      156  ...       207       207       207       207       206       206   \n",
       "1      157  ...        69       149       128        87        94       163   \n",
       "2      186  ...       202       201       200       199       198       199   \n",
       "3      211  ...       235       234       233       231       230       226   \n",
       "4      186  ...        92       105       105       108       133       163   \n",
       "\n",
       "   pixel781  pixel782  pixel783  pixel784  \n",
       "0       206       204       203       202  \n",
       "1       175       103       135       149  \n",
       "2       198       195       194       195  \n",
       "3       225       222       229       163  \n",
       "4       157       163       164       179  \n",
       "\n",
       "[5 rows x 784 columns]"
      ]
     },
     "execution_count": 6,
     "metadata": {},
     "output_type": "execute_result"
    }
   ],
   "source": [
    "train_data.head()"
   ]
  },
  {
   "cell_type": "code",
   "execution_count": 7,
   "metadata": {},
   "outputs": [],
   "source": [
    "# Reshape train and test data\n",
    "train_data=train_data.values.reshape(-1,28,28,1)\n",
    "test_data=test_data.values.reshape(-1,28,28,1)"
   ]
  },
  {
   "cell_type": "code",
   "execution_count": 8,
   "metadata": {},
   "outputs": [],
   "source": [
    "# normalize the data\n",
    "train_data = train_data/255.\n",
    "test_data = test_data/255."
   ]
  },
  {
   "cell_type": "code",
   "execution_count": 9,
   "metadata": {},
   "outputs": [
    {
     "name": "stdout",
     "output_type": "stream",
     "text": [
      "(27455, 28, 28, 1) (7172, 28, 28, 1)\n"
     ]
    }
   ],
   "source": [
    "print(train_data.shape, test_data.shape)"
   ]
  },
  {
   "cell_type": "code",
   "execution_count": 10,
   "metadata": {},
   "outputs": [
    {
     "data": {
      "text/plain": [
       "<matplotlib.axes._subplots.AxesSubplot at 0x7f25d14f02d0>"
      ]
     },
     "execution_count": 10,
     "metadata": {},
     "output_type": "execute_result"
    },
    {
     "data": {
      "image/png": "[encoded data removed]",
      "text/plain": [
       "<Figure size 432x288 with 1 Axes>"
      ]
     },
     "metadata": {
      "needs_background": "light"
     },
     "output_type": "display_data"
    }
   ],
   "source": [
    "# Analysis to see if the data is properly distributed for all the categories\n",
    "train.label.sort_values().value_counts().plot(kind = 'bar')\n",
    "\n"
   ]
  },
  {
   "cell_type": "code",
   "execution_count": 11,
   "metadata": {},
   "outputs": [
    {
     "data": {
      "text/plain": [
       "24"
      ]
     },
     "execution_count": 11,
     "metadata": {},
     "output_type": "execute_result"
    }
   ],
   "source": [
    "len(train['label'].sort_values().unique()) # there 24 unique labels available"
   ]
  },
  {
   "cell_type": "code",
   "execution_count": 12,
   "metadata": {},
   "outputs": [
    {
     "name": "stdout",
     "output_type": "stream",
     "text": [
      "27455 27455\n"
     ]
    }
   ],
   "source": [
    "print(len(train_label), len(train_data))"
   ]
  },
  {
   "cell_type": "code",
   "execution_count": 13,
   "metadata": {},
   "outputs": [],
   "source": [
    "from sklearn.preprocessing import LabelBinarizer\n",
    "label_binarizer = LabelBinarizer()\n",
    "train_label = label_binarizer.fit_transform(train_label)\n",
    "test_label = label_binarizer.fit_transform(test_label)"
   ]
  },
  {
   "cell_type": "code",
   "execution_count": 14,
   "metadata": {},
   "outputs": [
    {
     "name": "stdout",
     "output_type": "stream",
     "text": [
      "(27455, 24) (7172, 24)\n"
     ]
    }
   ],
   "source": [
    "print(train_label.shape, test_label.shape)"
   ]
  },
  {
   "cell_type": "code",
   "execution_count": 15,
   "metadata": {},
   "outputs": [],
   "source": [
    "#divide data into train and validation\n",
    "x_train, x_validation, y_train, y_validation = train_test_split(train_data, train_label,test_size=0.2, shuffle= True)"
   ]
  },
  {
   "cell_type": "code",
   "execution_count": 16,
   "metadata": {},
   "outputs": [
    {
     "name": "stdout",
     "output_type": "stream",
     "text": [
      "(21964, 28, 28, 1) (5491, 28, 28, 1) (21964, 24) (5491, 24)\n"
     ]
    }
   ],
   "source": [
    "print(x_train.shape, x_validation.shape, y_train.shape, y_validation.shape)"
   ]
  },
  {
   "cell_type": "code",
   "execution_count": 17,
   "metadata": {},
   "outputs": [],
   "source": [
    "# data augmentation\n",
    "train_datagen = ImageDataGenerator(\n",
    "                                rotation_range=40,\n",
    "                                width_shift_range=0.2,\n",
    "                                height_shift_range=0.2,\n",
    "                                shear_range=0.2,\n",
    "                                zoom_range=0.2,\n",
    "                                horizontal_flip=True,\n",
    "                                vertical_flip=True,\n",
    "                                fill_mode='nearest')\n",
    "validation_datagen = ImageDataGenerator()\n",
    "train_datagen.fit(x_train)\n",
    "validation_datagen.fit(x_validation)\n",
    "\n",
    "\n",
    "training_gen = train_datagen.flow(x_train, y_train,batch_size=32)\n",
    "validation_gen = validation_datagen.flow(x_validation, y_validation,batch_size=32)"
   ]
  },
  {
   "cell_type": "code",
   "execution_count": 18,
   "metadata": {},
   "outputs": [],
   "source": [
    "#model\n",
    "\n",
    "model = tf.keras.models.Sequential([tf.keras.layers.Conv2D(8, (3,3),strides=(1,1), activation='relu', input_shape=(28,28,1)),\n",
    "                                    tf.keras.layers.Conv2D(8, (3,3),strides=(1,1), activation='relu'),\n",
    "                                    tf.keras.layers.BatchNormalization(),\n",
    "                                    tf.keras.layers.ZeroPadding2D(padding=(1,1)),\n",
    "                                    tf.keras.layers.Conv2D(16, (3,3),strides=(1,1), activation='relu'),\n",
    "                                    tf.keras.layers.Conv2D(16, (3,3),strides=(1,1), activation='relu'),\n",
    "                                    tf.keras.layers.MaxPooling2D((2,2)),\n",
    "                                    tf.keras.layers.Conv2D(16, (3,3),strides=(1,1), activation='relu'),\n",
    "                                    tf.keras.layers.Conv2D(16, (3,3),strides=(1,1), activation='relu'),\n",
    "                                    tf.keras.layers.MaxPooling2D((2,2)),                                    \n",
    "                                    tf.keras.layers.Flatten(),\n",
    "                                    tf.keras.layers.Dense(512, activation='relu'),\n",
    "                                    tf.keras.layers.Dropout(0.2),\n",
    "                                    tf.keras.layers.Flatten(),\n",
    "                                    tf.keras.layers.Dense(512, activation='relu'),\n",
    "                                    tf.keras.layers.Dropout(0.2),                                    \n",
    "                                    tf.keras.layers.Dense(24, activation='softmax')\n",
    "                                   ])\n",
    "#optimizer\n",
    "opt = SGD(lr=0.01, decay=1e-6, momentum=0.9)\n",
    "\n",
    "# compile model\n",
    "model.compile(optimizer='adam', loss='categorical_crossentropy',  metrics=['accuracy'])"
   ]
  },
  {
   "cell_type": "code",
   "execution_count": 19,
   "metadata": {},
   "outputs": [
    {
     "name": "stdout",
     "output_type": "stream",
     "text": [
      "Model: \"sequential\"\n",
      "_________________________________________________________________\n",
      "Layer (type)                 Output Shape              Param #   \n",
      "=================================================================\n",
      "conv2d (Conv2D)              (None, 26, 26, 8)         80        \n",
      "_________________________________________________________________\n",
      "conv2d_1 (Conv2D)            (None, 24, 24, 8)         584       \n",
      "_________________________________________________________________\n",
      "batch_normalization (BatchNo (None, 24, 24, 8)         32        \n",
      "_________________________________________________________________\n",
      "zero_padding2d (ZeroPadding2 (None, 26, 26, 8)         0         \n",
      "_________________________________________________________________\n",
      "conv2d_2 (Conv2D)            (None, 24, 24, 16)        1168      \n",
      "_________________________________________________________________\n",
      "conv2d_3 (Conv2D)            (None, 22, 22, 16)        2320      \n",
      "_________________________________________________________________\n",
      "max_pooling2d (MaxPooling2D) (None, 11, 11, 16)        0         \n",
      "_________________________________________________________________\n",
      "conv2d_4 (Conv2D)            (None, 9, 9, 16)          2320      \n",
      "_________________________________________________________________\n",
      "conv2d_5 (Conv2D)            (None, 7, 7, 16)          2320      \n",
      "_________________________________________________________________\n",
      "max_pooling2d_1 (MaxPooling2 (None, 3, 3, 16)          0         \n",
      "_________________________________________________________________\n",
      "flatten (Flatten)            (None, 144)               0         \n",
      "_________________________________________________________________\n",
      "dense (Dense)                (None, 512)               74240     \n",
      "_________________________________________________________________\n",
      "dropout (Dropout)            (None, 512)               0         \n",
      "_________________________________________________________________\n",
      "flatten_1 (Flatten)          (None, 512)               0         \n",
      "_________________________________________________________________\n",
      "dense_1 (Dense)              (None, 512)               262656    \n",
      "_________________________________________________________________\n",
      "dropout_1 (Dropout)          (None, 512)               0         \n",
      "_________________________________________________________________\n",
      "dense_2 (Dense)              (None, 24)                12312     \n",
      "=================================================================\n",
      "Total params: 358,032\n",
      "Trainable params: 358,016\n",
      "Non-trainable params: 16\n",
      "_________________________________________________________________\n"
     ]
    }
   ],
   "source": [
    "model.summary()"
   ]
  },
  {
   "cell_type": "code",
   "execution_count": 20,
   "metadata": {},
   "outputs": [
    {
     "name": "stdout",
     "output_type": "stream",
     "text": [
      "Epoch 1/50\n",
      "687/686 [==============================] - 11s 16ms/step - loss: 2.7504 - accuracy: 0.1462 - val_loss: 2.1956 - val_accuracy: 0.3087 - lr: 0.0010\n",
      "Epoch 2/50\n",
      "687/686 [==============================] - 11s 16ms/step - loss: 2.2471 - accuracy: 0.2777 - val_loss: 1.5348 - val_accuracy: 0.4782 - lr: 0.0010\n",
      "Epoch 3/50\n",
      "687/686 [==============================] - 11s 17ms/step - loss: 1.9690 - accuracy: 0.3571 - val_loss: 1.2673 - val_accuracy: 0.5928 - lr: 0.0010\n",
      "Epoch 4/50\n",
      "687/686 [==============================] - 11s 16ms/step - loss: 1.7608 - accuracy: 0.4163 - val_loss: 1.1534 - val_accuracy: 0.6004 - lr: 0.0010\n",
      "Epoch 5/50\n",
      "687/686 [==============================] - 11s 16ms/step - loss: 1.6145 - accuracy: 0.4663 - val_loss: 1.7875 - val_accuracy: 0.3817 - lr: 0.0010\n",
      "Epoch 6/50\n",
      "687/686 [==============================] - 10s 15ms/step - loss: 1.4930 - accuracy: 0.5053 - val_loss: 0.8709 - val_accuracy: 0.6853 - lr: 0.0010\n",
      "Epoch 7/50\n",
      "687/686 [==============================] - 10s 15ms/step - loss: 1.3889 - accuracy: 0.5330 - val_loss: 0.8813 - val_accuracy: 0.6875 - lr: 0.0010\n",
      "Epoch 8/50\n",
      "687/686 [==============================] - 10s 15ms/step - loss: 1.3053 - accuracy: 0.5601 - val_loss: 0.7604 - val_accuracy: 0.7370 - lr: 0.0010\n",
      "Epoch 9/50\n",
      "687/686 [==============================] - 11s 16ms/step - loss: 1.2369 - accuracy: 0.5791 - val_loss: 0.6883 - val_accuracy: 0.7649 - lr: 0.0010\n",
      "Epoch 10/50\n",
      "687/686 [==============================] - 10s 14ms/step - loss: 1.1916 - accuracy: 0.5962 - val_loss: 0.6639 - val_accuracy: 0.7682 - lr: 0.0010\n",
      "Epoch 11/50\n",
      "687/686 [==============================] - 10s 14ms/step - loss: 1.1622 - accuracy: 0.6044 - val_loss: 0.6375 - val_accuracy: 0.7704 - lr: 0.0010\n",
      "Epoch 12/50\n",
      "687/686 [==============================] - 10s 15ms/step - loss: 1.0990 - accuracy: 0.6229 - val_loss: 0.8206 - val_accuracy: 0.7146 - lr: 0.0010\n",
      "Epoch 13/50\n",
      "687/686 [==============================] - 10s 15ms/step - loss: 1.0785 - accuracy: 0.6287 - val_loss: 0.6206 - val_accuracy: 0.7878 - lr: 0.0010\n",
      "Epoch 14/50\n",
      "687/686 [==============================] - 10s 15ms/step - loss: 1.0491 - accuracy: 0.6413 - val_loss: 0.6751 - val_accuracy: 0.7636 - lr: 0.0010\n",
      "Epoch 15/50\n",
      "687/686 [==============================] - 11s 16ms/step - loss: 1.0059 - accuracy: 0.6608 - val_loss: 0.5642 - val_accuracy: 0.7977 - lr: 0.0010\n",
      "Epoch 16/50\n",
      "687/686 [==============================] - 10s 14ms/step - loss: 1.0080 - accuracy: 0.6519 - val_loss: 0.4370 - val_accuracy: 0.8499 - lr: 0.0010\n",
      "Epoch 17/50\n",
      "687/686 [==============================] - 10s 14ms/step - loss: 0.9758 - accuracy: 0.6651 - val_loss: 0.6664 - val_accuracy: 0.7669 - lr: 0.0010\n",
      "Epoch 18/50\n",
      "684/686 [============================>.] - ETA: 0s - loss: 0.9462 - accuracy: 0.6772\n",
      "Epoch 00018: ReduceLROnPlateau reducing learning rate to 0.0005000000237487257.\n",
      "687/686 [==============================] - 10s 14ms/step - loss: 0.9456 - accuracy: 0.6773 - val_loss: 0.4327 - val_accuracy: 0.8465 - lr: 0.0010\n",
      "Epoch 19/50\n",
      "687/686 [==============================] - 9s 14ms/step - loss: 0.8330 - accuracy: 0.7112 - val_loss: 0.3809 - val_accuracy: 0.8632 - lr: 5.0000e-04\n",
      "Epoch 20/50\n",
      "687/686 [==============================] - 9s 13ms/step - loss: 0.8144 - accuracy: 0.7224 - val_loss: 0.4066 - val_accuracy: 0.8563 - lr: 5.0000e-04\n",
      "Epoch 21/50\n",
      "687/686 [==============================] - ETA: 0s - loss: 0.7865 - accuracy: 0.7298\n",
      "Epoch 00021: ReduceLROnPlateau reducing learning rate to 0.0002500000118743628.\n",
      "687/686 [==============================] - 11s 16ms/step - loss: 0.7865 - accuracy: 0.7298 - val_loss: 0.3662 - val_accuracy: 0.8607 - lr: 5.0000e-04\n",
      "Epoch 22/50\n",
      "687/686 [==============================] - 9s 14ms/step - loss: 0.7256 - accuracy: 0.7495 - val_loss: 0.2875 - val_accuracy: 0.8955 - lr: 2.5000e-04\n",
      "Epoch 23/50\n",
      "687/686 [==============================] - 10s 14ms/step - loss: 0.7034 - accuracy: 0.7581 - val_loss: 0.2828 - val_accuracy: 0.8946 - lr: 2.5000e-04\n",
      "Epoch 24/50\n",
      "687/686 [==============================] - 10s 14ms/step - loss: 0.6927 - accuracy: 0.7584 - val_loss: 0.2346 - val_accuracy: 0.9139 - lr: 2.5000e-04\n",
      "Epoch 25/50\n",
      "687/686 [==============================] - 10s 14ms/step - loss: 0.6845 - accuracy: 0.7621 - val_loss: 0.2942 - val_accuracy: 0.9000 - lr: 2.5000e-04\n",
      "Epoch 26/50\n",
      "684/686 [============================>.] - ETA: 0s - loss: 0.6735 - accuracy: 0.7643\n",
      "Epoch 00026: ReduceLROnPlateau reducing learning rate to 0.0001250000059371814.\n",
      "687/686 [==============================] - 9s 14ms/step - loss: 0.6737 - accuracy: 0.7642 - val_loss: 0.2515 - val_accuracy: 0.9129 - lr: 2.5000e-04\n",
      "Epoch 27/50\n",
      "687/686 [==============================] - 10s 15ms/step - loss: 0.6449 - accuracy: 0.7762 - val_loss: 0.2219 - val_accuracy: 0.9135 - lr: 1.2500e-04\n",
      "Epoch 28/50\n",
      "687/686 [==============================] - 10s 14ms/step - loss: 0.6318 - accuracy: 0.7811 - val_loss: 0.2131 - val_accuracy: 0.9153 - lr: 1.2500e-04\n",
      "Epoch 29/50\n",
      "514/686 [=====================>........] - ETA: 2s - loss: 0.6455 - accuracy: 0.7748"
     ]
    }
   ],
   "source": [
    "\n",
    "# Callbacks\n",
    "\n",
    "Callbacks=[tf.keras.callbacks.EarlyStopping(patience=3, restore_best_weights=True), \n",
    "           tf.keras.callbacks.ReduceLROnPlateau(monitor='val_accuracy', patience = 2, verbose=1,factor=0.5, min_lr=0.00001)]\n",
    "\n",
    "# Callbacks=[tf.keras.callbacks.ReduceLROnPlateau(monitor='val_accuracy', patience = 2, verbose=1,factor=0.5, min_lr=0.00001)]\n",
    "\n",
    "# Train the Model\n",
    "history = model.fit_generator(\n",
    "    training_gen,\n",
    "    epochs=50,\n",
    "    steps_per_epoch= len(x_train)/32,    \n",
    "    validation_data=validation_gen,\n",
    "    validation_steps = len(x_validation)/32,\n",
    "    callbacks = Callbacks\n",
    ")"
   ]
  },
  {
   "cell_type": "code",
   "execution_count": 21,
   "metadata": {},
   "outputs": [
    {
     "data": {
      "image/png": "[encoded data removed]",
      "text/plain": [
       "<Figure size 432x288 with 1 Axes>"
      ]
     },
     "metadata": {
      "needs_background": "light"
     },
     "output_type": "display_data"
    },
    {
     "data": {
      "image/png": "[encoded data removed]",
      "text/plain": [
       "<Figure size 432x288 with 1 Axes>"
      ]
     },
     "metadata": {
      "needs_background": "light"
     },
     "output_type": "display_data"
    }
   ],
   "source": [
    "# Plot the chart for accuracy and loss on both training and validation\n",
    "\n",
    "acc = history.history['accuracy']\n",
    "val_acc = history.history['val_accuracy']\n",
    "loss = history.history['loss']\n",
    "val_loss = history.history['val_loss']\n",
    "\n",
    "epochs = range(len(acc))\n",
    "\n",
    "plt.plot(epochs, acc, 'r', label='Training accuracy')\n",
    "plt.plot(epochs, val_acc, 'b', label='Validation accuracy')\n",
    "plt.title('Training and validation accuracy')\n",
    "plt.legend()\n",
    "plt.figure()\n",
    "\n",
    "plt.plot(epochs, loss, 'r', label='Training Loss')\n",
    "plt.plot(epochs, val_loss, 'b', label='Validation Loss')\n",
    "plt.title('Training and validation loss')\n",
    "plt.legend()\n",
    "\n",
    "plt.show()"
   ]
  },
  {
   "cell_type": "code",
   "execution_count": 22,
   "metadata": {},
   "outputs": [
    {
     "name": "stdout",
     "output_type": "stream",
     "text": [
      "225/225 [==============================] - 1s 3ms/step - loss: 0.2871 - accuracy: 0.8892\n"
     ]
    },
    {
     "data": {
      "text/plain": [
       "[0.28710076212882996, 0.8891522884368896]"
      ]
     },
     "execution_count": 22,
     "metadata": {},
     "output_type": "execute_result"
    }
   ],
   "source": [
    "model.evaluate(test_data, test_label)"
   ]
  },
  {
   "cell_type": "code",
   "execution_count": null,
   "metadata": {},
   "outputs": [],
   "source": []
  }
 ],
 "metadata": {
  "kernelspec": {
   "display_name": "Python 3",
   "language": "python",
   "name": "python3"
  },
  "language_info": {
   "codemirror_mode": {
    "name": "ipython",
    "version": 3
   },
   "file_extension": ".py",
   "mimetype": "text/x-python",
   "name": "python",
   "nbconvert_exporter": "python",
   "pygments_lexer": "ipython3",
   "version": "3.7.6"
  }
 },
 "nbformat": 4,
 "nbformat_minor": 4
}
